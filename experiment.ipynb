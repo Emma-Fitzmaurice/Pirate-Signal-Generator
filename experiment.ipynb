{
 "cells": [
  {
   "cell_type": "code",
   "execution_count": 1,
   "metadata": {},
   "outputs": [],
   "source": [
    "import sc3nb as scn"
   ]
  },
  {
   "cell_type": "code",
   "execution_count": 2,
   "metadata": {},
   "outputs": [
    {
     "data": {
      "application/javascript": "if (typeof Jupyter !== 'undefined') {\n                        Jupyter.keyboard_manager.command_shortcuts.add_shortcut(\n                        'cmd-.', {\n                        help : 'Free all nodes on SC server',\n                        help_index : 'zz',\n                        handler : function (event) {\n                            IPython.notebook.kernel.execute(\n                                \"import sc3nb; sc3nb.SC.get_default().server.free_all(root=True)\"\n                            )\n                            return true;}\n                        });\n                    }",
      "text/plain": [
       "<IPython.core.display.Javascript object>"
      ]
     },
     "metadata": {},
     "output_type": "display_data"
    },
    {
     "name": "stderr",
     "output_type": "stream",
     "text": [
      "Found old process. Please exit sc3nb via sc.exit(). \n",
      " Terminating psutil.Process(pid=59503, name='sclang', status='running', started='11:31:49') because none of the parents=[psutil.Process(pid=59501, name='SuperCollider', status='running', started='11:31:48'), psutil.Process(pid=1, name='launchd', status='running', started='2023-07-09 18:50:24'), psutil.Process(pid=0, name='kernel_task', status='running', started='2023-07-09 18:50:24')] are in allowed_parents=('scide', 'python', 'tox') More information can be found in the documentation.\n"
     ]
    },
    {
     "name": "stdout",
     "output_type": "stream",
     "text": [
      "Starting sclang process... [sclang | start reading ]\n",
      "Done.\n",
      "Registering OSC /return callback in sclang... Done.\n",
      "Loading default sc3nb SynthDefs... Done.\n",
      "Booting SuperCollider Server... [scsynth | start reading ]\n",
      "Done.\n"
     ]
    }
   ],
   "source": [
    "sc = scn.startup()"
   ]
  },
  {
   "cell_type": "code",
   "execution_count": 4,
   "metadata": {},
   "outputs": [],
   "source": [
    "sc.server.blip()"
   ]
  },
  {
   "cell_type": "code",
   "execution_count": 155,
   "metadata": {},
   "outputs": [],
   "source": [
    "sc.server.free_all()"
   ]
  },
  {
   "cell_type": "code",
   "execution_count": 47,
   "metadata": {},
   "outputs": [],
   "source": [
    "def db_lin(db):\n",
    "    return 10**(db/20)\n",
    "\n",
    "def play():\n",
    "    sc.server.free_all()\n",
    "    match wave_index:\n",
    "        case 0: # Sine\n",
    "            sc.lang.cmds('{SinOsc.ar(%s, 0, %s) }.play' % (wave_freq,db_lin(level)))\n",
    "        case 1: # Triangle\n",
    "            sc.lang.cmds('{LFTri.ar(%s,0.0, %s) }.play' % (wave_freq,db_lin(level)))\n",
    "        case 2: # Square\n",
    "            sc.lang.cmds('{Pulse.ar(%s, 0.5, %s)}.play' % (wave_freq,db_lin(level)))\n",
    "        case 3: # Saw\n",
    "            sc.lang.cmds('{Saw.ar(%s, %s) }.play'% (wave_freq,db_lin(level)))\n",
    "        case 4: # Inv Saw\n",
    "            sc.lang.cmds('{Saw.ar(%s, -%s) }.play'% (wave_freq,db_lin(level)))\n",
    "        case 5: # White\n",
    "            sc.lang.cmds('{ WhiteNoise.ar(%s)}.play' % db_lin(level))\n",
    "        case 6: # Pink\n",
    "            sc.lang.cmds('{ PinkNoise.ar(%s)}.play' % db_lin(level))\n",
    "        case 7: # Octaves\n",
    "            sc.lang.cmds('{ Klang.ar(`[%s,%s])}.play' % (nth_octave(1,oct_freq),db_lin(level)))\n",
    "        case 8: # 1/2 Oct\n",
    "            sc.lang.cmds('{ Klang.ar(`[%s,%s])}.play' % (nth_octave(2,oct_freq),db_lin(level)/2))\n",
    "        case 9: # 1/3 Oct\n",
    "            sc.lang.cmds('{ Klang.ar(`[%s,%s])}.play' % (nth_octave(3,oct_freq),db_lin(level)/3)) \n",
    "        case 10: # Whole Tone\n",
    "            sc.lang.cmds('{ Klang.ar(`[%s,%s])}.play' % (nth_octave(12,oct_freq),db_lin(level)/6))\n",
    "        case 11: # Semitone\n",
    "            sc.lang.cmds('{ Klang.ar(`[%s,%s])}.play' % (nth_octave(6,oct_freq),db_lin(level)/12))"
   ]
  },
  {
   "cell_type": "code",
   "execution_count": 156,
   "metadata": {},
   "outputs": [],
   "source": [
    "waves = [\"Sine\",\"Triangle\",\"Square\",\"Sawtooth\",\"Inv Saw\",\"White\",\"Pink\",\"Octaves\",\"1/2 Oct\",\"1/3 Oct\",\"Semitone\",\"Whole Tone\"]\n",
    "wave_freq = 1000\n",
    "oct_freq = 440\n",
    "level = -6\n",
    "wave_index = 0\n",
    "resolution = 0 # [Coarse, Fine, Finest]\n",
    "\n",
    "def cycle_wave(inc = True):\n",
    "    global wave_index\n",
    "    wave_index += 1 if inc else -1\n",
    "    wave_index %= len(waves)\n",
    "    play()\n",
    "\n",
    "def cycle_freq(inc = True):\n",
    "    if wave_index < 5:\n",
    "        \n",
    "        wave_freq += 1 if inc else -1\n",
    "        \n",
    "    elif wave_index > 6:\n",
    "        oct_freq += 1 if inc else -1\n",
    "  \n",
    "    play()\n",
    "\n",
    "def cycle_level(inc = True):\n",
    "    match resolution:\n",
    "        case 0:\n",
    "            level += 6 if inc else -6\n",
    "        case 1:\n",
    "            level += 1 if inc else -1\n",
    "        case 2:\n",
    "            level += 0.1 if inc else -0.1\n",
    "    level = min(0,level)\n",
    "    play()"
   ]
  },
  {
   "cell_type": "code",
   "execution_count": 70,
   "metadata": {},
   "outputs": [],
   "source": [
    "play()"
   ]
  },
  {
   "cell_type": "code",
   "execution_count": 140,
   "metadata": {},
   "outputs": [],
   "source": [
    "cycle_wave(False)"
   ]
  },
  {
   "cell_type": "code",
   "execution_count": 154,
   "metadata": {},
   "outputs": [],
   "source": [
    "cycle_wave()"
   ]
  },
  {
   "cell_type": "code",
   "execution_count": 38,
   "metadata": {},
   "outputs": [],
   "source": [
    "def nth_octave(n=3,root_freq=440,min_freq=20,max_freq=20000):\n",
    "    freq_array=[]\n",
    "    freq=root_freq\n",
    "\n",
    "    while freq > min_freq:\n",
    "        freq *=(2**(1/(-n)))\n",
    "\n",
    "    while freq < max_freq:\n",
    "        freq *=(2**(1/(n)))\n",
    "        freq_array.append(freq)\n",
    "    \n",
    "    return freq_array\n"
   ]
  },
  {
   "cell_type": "markdown",
   "metadata": {},
   "source": [
    "# Waves"
   ]
  },
  {
   "cell_type": "code",
   "execution_count": 14,
   "metadata": {},
   "outputs": [],
   "source": [
    "sc.server.free_all()\n",
    "sc.lang.cmds('{SinOsc.ar(200, 0, 0.5) }.play')"
   ]
  },
  {
   "cell_type": "code",
   "execution_count": 16,
   "metadata": {},
   "outputs": [],
   "source": [
    "sc.server.free_all()\n",
    "sc.lang.cmds('{Saw.ar(200, 0.5) }.play')"
   ]
  },
  {
   "cell_type": "code",
   "execution_count": 15,
   "metadata": {},
   "outputs": [],
   "source": [
    "sc.server.free_all()\n",
    "sc.lang.cmds('{LFTri.ar(200,0.0, 0.5) }.play')"
   ]
  },
  {
   "cell_type": "code",
   "execution_count": 17,
   "metadata": {},
   "outputs": [],
   "source": [
    "sc.server.free_all()\n",
    "sc.lang.cmds('{Pulse.ar(200, 0.5, 0.2)}.play')"
   ]
  },
  {
   "cell_type": "markdown",
   "metadata": {},
   "source": [
    "# Nth Octave"
   ]
  },
  {
   "cell_type": "code",
   "execution_count": 34,
   "metadata": {},
   "outputs": [],
   "source": [
    "sc.server.free_all()\n",
    "sc.lang.cmds('{ Klang.ar(`[%s,0.05])}.play' % nth_octave(2))"
   ]
  },
  {
   "cell_type": "markdown",
   "metadata": {},
   "source": [
    "# Noise"
   ]
  },
  {
   "cell_type": "code",
   "execution_count": 27,
   "metadata": {},
   "outputs": [],
   "source": [
    "sc.server.free_all()\n",
    "sc.lang.cmds('{ WhiteNoise.ar(0.5)}.play')"
   ]
  },
  {
   "cell_type": "code",
   "execution_count": 26,
   "metadata": {},
   "outputs": [],
   "source": [
    "sc.server.free_all()\n",
    "sc.lang.cmds('{ PinkNoise.ar(0.5)}.play')"
   ]
  }
 ],
 "metadata": {
  "kernelspec": {
   "display_name": ".venv",
   "language": "python",
   "name": "python3"
  },
  "language_info": {
   "codemirror_mode": {
    "name": "ipython",
    "version": 3
   },
   "file_extension": ".py",
   "mimetype": "text/x-python",
   "name": "python",
   "nbconvert_exporter": "python",
   "pygments_lexer": "ipython3",
   "version": "3.10.0"
  },
  "orig_nbformat": 4
 },
 "nbformat": 4,
 "nbformat_minor": 2
}
