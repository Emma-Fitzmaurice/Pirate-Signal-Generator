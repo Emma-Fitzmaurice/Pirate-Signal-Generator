{
 "cells": [
  {
   "cell_type": "code",
   "execution_count": 14,
   "metadata": {},
   "outputs": [],
   "source": [
    "from PIL import Image, ImageDraw, ImageFont"
   ]
  },
  {
   "cell_type": "code",
   "execution_count": 331,
   "metadata": {},
   "outputs": [
    {
     "data": {
      "image/jpeg": "[encoded data removed]",
      "image/png": "[encoded data removed]",
      "text/plain": [
       "<PIL.Image.Image image mode=RGB size=240x240>"
      ]
     },
     "metadata": {},
     "output_type": "display_data"
    }
   ],
   "source": [
    "image = Image.new(\"RGB\", (240, 240), (0, 0, 0))\n",
    "draw = ImageDraw.Draw(image)\n",
    "font = ImageFont.truetype(\"AtkinsonHyperlegible-Regular.ttf\", 19)\n",
    "small_font = ImageFont.truetype(\"AtkinsonHyperlegible-Regular.ttf\", 12)\n",
    "colour_palette = [\"#65A1F6\",\"#4DA167\",\"#52489C\",\"#EF6F6C\"]\n",
    "\n",
    "waves = [\"Sine\",\"Triangle\",\"Square\",\"Sawtooth\",\"Inv Saw\",\"White\",\"Pink\",\"Octaves\",\"1/2 Oct\",\"1/3 Oct\",\"Whole Tone\",\"Semitone\"]\n",
    "\n",
    "wave_index = 11\n",
    "\n",
    "frequency =440\n",
    "level = -6\n",
    "active_param = 1\n",
    "active_resolution = 2\n",
    "\n",
    "\n",
    "render_display()\n",
    "display(image)"
   ]
  },
  {
   "cell_type": "code",
   "execution_count": 319,
   "metadata": {},
   "outputs": [],
   "source": [
    "def draw_octave_lines(num_lines):\n",
    "    draw.line([15,115,185,115],width=2)\n",
    "    for i in range(num_lines):\n",
    "        draw.line([((i+1)*170/(num_lines+1)+15),115,(((i+1)*170/(num_lines+1))+15),25],width=2)\n",
    "\n",
    "sine_img = Image.open(\"Sine_wave.png\")\n",
    "white_img = Image.open(\"White_Noise.png\")\n",
    "pink_img = Image.open(\"Pink_Noise.png\")\n",
    "\n",
    "def render_display():\n",
    "\n",
    "    draw.rectangle([0,0,200,160],fill=colour_palette[0])\n",
    "    draw.rectangle([0,160,200,200],fill=colour_palette[1])\n",
    "    draw.rectangle([0,200,200,240],fill=colour_palette[2])\n",
    "    # Parameter seperators\n",
    "    draw.line([0,160,200,160])\n",
    "    draw.line([0,200,200,200])\n",
    "\n",
    "    draw.text((15, 127),\"Wave : %s\" % waves[wave_index],(255,255,255),font)\n",
    "    draw.text((15, 167),\"Frequency : %shz\" % frequency,(255,255,255),font)\n",
    "    draw.text((15, 207),\"Level : %s dBV\" % level,(255,255,255),font)\n",
    "\n",
    "    # B button Arrow\n",
    "    draw.line([6,140,6,220],width=1)\n",
    "    draw.line([4,218,6,220,8,218],width=1)\n",
    "\n",
    "    # A button, Control Resolution\n",
    "    draw.rectangle([0,0,60,16],fill=colour_palette[3])\n",
    "    draw.rectangle([0,0,8,75],fill=colour_palette[3])\n",
    "    draw.line([0,75,8,75,8,16,60,16,60,0],width=1)\n",
    "    match active_resolution:\n",
    "        case 0:\n",
    "            draw.text((15,0), \"Coarse\", font=small_font)\n",
    "        case 1:\n",
    "            draw.text((15,0), \"Fine\", font=small_font)\n",
    "        case 2:\n",
    "            draw.text((15,0), \"X-Fine\", font=small_font)\n",
    "\n",
    "\n",
    "\n",
    "    match active_param:\n",
    "        case 0:\n",
    "            draw.rectangle([200,0,240,240],fill=colour_palette[0])\n",
    "            draw.line([200,160,200,240])\n",
    "        case 1:\n",
    "            draw.rectangle([200,0,240,240],fill=colour_palette[1])\n",
    "            draw.line([200,0,200,160])\n",
    "            draw.line([200,200,200,240])\n",
    "        case 2:\n",
    "            draw.rectangle([200,0,240,240],fill=colour_palette[2])\n",
    "            draw.line([200,0,200,200])\n",
    "    \n",
    "    # draw +\n",
    "    draw.line([215,70,225,70],width=3)\n",
    "    draw.line([220,65,220,75],width=3)\n",
    "    # draw -\n",
    "    draw.line([215,190,225,190],width=3)\n",
    "\n",
    "\n",
    "\n",
    "    match wave_index:\n",
    "        case 0: # Sine\n",
    "            image.paste(sine_img,[15,25],mask=sine_img)\n",
    "        case 1: # Triangle\n",
    "            draw.line([15,70,57.5,25,100,70,142.5,115,185,70],width=2)\n",
    "        case 2: # Square\n",
    "            draw.line([15,70,15,25,100,25,100,115,185,115,185,70],width=2)\n",
    "        case 3: # Saw\n",
    "            draw.line([15,115,185,25,185,115,185,25],width=2)\n",
    "        case 4: # Inv Saw\n",
    "            draw.line([15,115,15,25,185,115,185,25],width=2)\n",
    "        case 5: # White\n",
    "            image.paste(white_img,[15,25])\n",
    "        case 6: # Pink\n",
    "            image.paste(pink_img,[15,25])\n",
    "        case 7: # Octaves\n",
    "            draw_octave_lines(1)\n",
    "        case 8: # 1/2 Oct\n",
    "            draw_octave_lines(2)\n",
    "        case 9: # 1/3 Oct\n",
    "            draw_octave_lines(3)\n",
    "        case 10: # Whole Tone\n",
    "            draw_octave_lines(6)\n",
    "        case 11: # Semitone\n",
    "            draw_octave_lines(12)\n",
    "        "
   ]
  }
 ],
 "metadata": {
  "kernelspec": {
   "display_name": ".venv",
   "language": "python",
   "name": "python3"
  },
  "language_info": {
   "codemirror_mode": {
    "name": "ipython",
    "version": 3
   },
   "file_extension": ".py",
   "mimetype": "text/x-python",
   "name": "python",
   "nbconvert_exporter": "python",
   "pygments_lexer": "ipython3",
   "version": "3.10.0"
  },
  "orig_nbformat": 4
 },
 "nbformat": 4,
 "nbformat_minor": 2
}
